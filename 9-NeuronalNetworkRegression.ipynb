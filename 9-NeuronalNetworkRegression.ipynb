{
 "cells": [
  {
   "cell_type": "markdown",
   "metadata": {},
   "source": [
    "# Linear Regression VS Linear Neuronal Network for Regression\n",
    "\n",
    "\n",
    "## Contenido\n",
    "  - Exploración de los datos\n",
    "  - Solución mediante método de RSE Regresion Lineal\n",
    "  - Solución mediante Multiple Layer Perceptron (MLP)"
   ]
  },
  {
   "cell_type": "code",
   "execution_count": 38,
   "metadata": {},
   "outputs": [],
   "source": [
    "# Imports\n",
    "import numpy as np\n",
    "import pandas as pd\n",
    "import matplotlib as mpt"
   ]
  },
  {
   "cell_type": "code",
   "execution_count": 39,
   "metadata": {},
   "outputs": [
    {
     "data": {
      "text/html": [
       "<div>\n",
       "<style scoped>\n",
       "    .dataframe tbody tr th:only-of-type {\n",
       "        vertical-align: middle;\n",
       "    }\n",
       "\n",
       "    .dataframe tbody tr th {\n",
       "        vertical-align: top;\n",
       "    }\n",
       "\n",
       "    .dataframe thead th {\n",
       "        text-align: right;\n",
       "    }\n",
       "</style>\n",
       "<table border=\"1\" class=\"dataframe\">\n",
       "  <thead>\n",
       "    <tr style=\"text-align: right;\">\n",
       "      <th></th>\n",
       "      <th>log_price</th>\n",
       "      <th>property_type</th>\n",
       "      <th>room_type</th>\n",
       "      <th>amenities</th>\n",
       "      <th>accommodates</th>\n",
       "      <th>bathrooms</th>\n",
       "      <th>bed_type</th>\n",
       "      <th>cancellation_policy</th>\n",
       "      <th>cleaning_fee</th>\n",
       "      <th>city</th>\n",
       "      <th>...</th>\n",
       "      <th>latitude</th>\n",
       "      <th>longitude</th>\n",
       "      <th>name</th>\n",
       "      <th>neighbourhood</th>\n",
       "      <th>number_of_reviews</th>\n",
       "      <th>review_scores_rating</th>\n",
       "      <th>thumbnail_url</th>\n",
       "      <th>zipcode</th>\n",
       "      <th>bedrooms</th>\n",
       "      <th>beds</th>\n",
       "    </tr>\n",
       "    <tr>\n",
       "      <th>id</th>\n",
       "      <th></th>\n",
       "      <th></th>\n",
       "      <th></th>\n",
       "      <th></th>\n",
       "      <th></th>\n",
       "      <th></th>\n",
       "      <th></th>\n",
       "      <th></th>\n",
       "      <th></th>\n",
       "      <th></th>\n",
       "      <th></th>\n",
       "      <th></th>\n",
       "      <th></th>\n",
       "      <th></th>\n",
       "      <th></th>\n",
       "      <th></th>\n",
       "      <th></th>\n",
       "      <th></th>\n",
       "      <th></th>\n",
       "      <th></th>\n",
       "      <th></th>\n",
       "    </tr>\n",
       "  </thead>\n",
       "  <tbody>\n",
       "    <tr>\n",
       "      <th>6901257</th>\n",
       "      <td>5.010635</td>\n",
       "      <td>Apartment</td>\n",
       "      <td>Entire home/apt</td>\n",
       "      <td>{\"Wireless Internet\",\"Air conditioning\",Kitche...</td>\n",
       "      <td>3</td>\n",
       "      <td>1.0</td>\n",
       "      <td>Real Bed</td>\n",
       "      <td>strict</td>\n",
       "      <td>True</td>\n",
       "      <td>NYC</td>\n",
       "      <td>...</td>\n",
       "      <td>40.696524</td>\n",
       "      <td>-73.991617</td>\n",
       "      <td>Beautiful brownstone 1-bedroom</td>\n",
       "      <td>Brooklyn Heights</td>\n",
       "      <td>2</td>\n",
       "      <td>100.0</td>\n",
       "      <td>https://a0.muscache.com/im/pictures/6d7cbbf7-c...</td>\n",
       "      <td>11201</td>\n",
       "      <td>1.0</td>\n",
       "      <td>1.0</td>\n",
       "    </tr>\n",
       "    <tr>\n",
       "      <th>6304928</th>\n",
       "      <td>5.129899</td>\n",
       "      <td>Apartment</td>\n",
       "      <td>Entire home/apt</td>\n",
       "      <td>{\"Wireless Internet\",\"Air conditioning\",Kitche...</td>\n",
       "      <td>7</td>\n",
       "      <td>1.0</td>\n",
       "      <td>Real Bed</td>\n",
       "      <td>strict</td>\n",
       "      <td>True</td>\n",
       "      <td>NYC</td>\n",
       "      <td>...</td>\n",
       "      <td>40.766115</td>\n",
       "      <td>-73.989040</td>\n",
       "      <td>Superb 3BR Apt Located Near Times Square</td>\n",
       "      <td>Hell's Kitchen</td>\n",
       "      <td>6</td>\n",
       "      <td>93.0</td>\n",
       "      <td>https://a0.muscache.com/im/pictures/348a55fe-4...</td>\n",
       "      <td>10019</td>\n",
       "      <td>3.0</td>\n",
       "      <td>3.0</td>\n",
       "    </tr>\n",
       "    <tr>\n",
       "      <th>7919400</th>\n",
       "      <td>4.976734</td>\n",
       "      <td>Apartment</td>\n",
       "      <td>Entire home/apt</td>\n",
       "      <td>{TV,\"Cable TV\",\"Wireless Internet\",\"Air condit...</td>\n",
       "      <td>5</td>\n",
       "      <td>1.0</td>\n",
       "      <td>Real Bed</td>\n",
       "      <td>moderate</td>\n",
       "      <td>True</td>\n",
       "      <td>NYC</td>\n",
       "      <td>...</td>\n",
       "      <td>40.808110</td>\n",
       "      <td>-73.943756</td>\n",
       "      <td>The Garden Oasis</td>\n",
       "      <td>Harlem</td>\n",
       "      <td>10</td>\n",
       "      <td>92.0</td>\n",
       "      <td>https://a0.muscache.com/im/pictures/6fae5362-9...</td>\n",
       "      <td>10027</td>\n",
       "      <td>1.0</td>\n",
       "      <td>3.0</td>\n",
       "    </tr>\n",
       "    <tr>\n",
       "      <th>13418779</th>\n",
       "      <td>6.620073</td>\n",
       "      <td>House</td>\n",
       "      <td>Entire home/apt</td>\n",
       "      <td>{TV,\"Cable TV\",Internet,\"Wireless Internet\",Ki...</td>\n",
       "      <td>4</td>\n",
       "      <td>1.0</td>\n",
       "      <td>Real Bed</td>\n",
       "      <td>flexible</td>\n",
       "      <td>True</td>\n",
       "      <td>SF</td>\n",
       "      <td>...</td>\n",
       "      <td>37.772004</td>\n",
       "      <td>-122.431619</td>\n",
       "      <td>Beautiful Flat in the Heart of SF!</td>\n",
       "      <td>Lower Haight</td>\n",
       "      <td>0</td>\n",
       "      <td>NaN</td>\n",
       "      <td>https://a0.muscache.com/im/pictures/72208dad-9...</td>\n",
       "      <td>94117.0</td>\n",
       "      <td>2.0</td>\n",
       "      <td>2.0</td>\n",
       "    </tr>\n",
       "    <tr>\n",
       "      <th>3808709</th>\n",
       "      <td>4.744932</td>\n",
       "      <td>Apartment</td>\n",
       "      <td>Entire home/apt</td>\n",
       "      <td>{TV,Internet,\"Wireless Internet\",\"Air conditio...</td>\n",
       "      <td>2</td>\n",
       "      <td>1.0</td>\n",
       "      <td>Real Bed</td>\n",
       "      <td>moderate</td>\n",
       "      <td>True</td>\n",
       "      <td>DC</td>\n",
       "      <td>...</td>\n",
       "      <td>38.925627</td>\n",
       "      <td>-77.034596</td>\n",
       "      <td>Great studio in midtown DC</td>\n",
       "      <td>Columbia Heights</td>\n",
       "      <td>4</td>\n",
       "      <td>40.0</td>\n",
       "      <td>NaN</td>\n",
       "      <td>20009</td>\n",
       "      <td>0.0</td>\n",
       "      <td>1.0</td>\n",
       "    </tr>\n",
       "    <tr>\n",
       "      <th>...</th>\n",
       "      <td>...</td>\n",
       "      <td>...</td>\n",
       "      <td>...</td>\n",
       "      <td>...</td>\n",
       "      <td>...</td>\n",
       "      <td>...</td>\n",
       "      <td>...</td>\n",
       "      <td>...</td>\n",
       "      <td>...</td>\n",
       "      <td>...</td>\n",
       "      <td>...</td>\n",
       "      <td>...</td>\n",
       "      <td>...</td>\n",
       "      <td>...</td>\n",
       "      <td>...</td>\n",
       "      <td>...</td>\n",
       "      <td>...</td>\n",
       "      <td>...</td>\n",
       "      <td>...</td>\n",
       "      <td>...</td>\n",
       "      <td>...</td>\n",
       "    </tr>\n",
       "    <tr>\n",
       "      <th>14549287</th>\n",
       "      <td>4.605170</td>\n",
       "      <td>Apartment</td>\n",
       "      <td>Private room</td>\n",
       "      <td>{}</td>\n",
       "      <td>1</td>\n",
       "      <td>1.0</td>\n",
       "      <td>Real Bed</td>\n",
       "      <td>flexible</td>\n",
       "      <td>False</td>\n",
       "      <td>NYC</td>\n",
       "      <td>...</td>\n",
       "      <td>40.709025</td>\n",
       "      <td>-73.939405</td>\n",
       "      <td>one room bushwick</td>\n",
       "      <td>Williamsburg</td>\n",
       "      <td>0</td>\n",
       "      <td>NaN</td>\n",
       "      <td>https://a0.muscache.com/im/pictures/55162426/6...</td>\n",
       "      <td>11206.0</td>\n",
       "      <td>1.0</td>\n",
       "      <td>1.0</td>\n",
       "    </tr>\n",
       "    <tr>\n",
       "      <th>13281809</th>\n",
       "      <td>5.043425</td>\n",
       "      <td>Apartment</td>\n",
       "      <td>Entire home/apt</td>\n",
       "      <td>{TV,\"Cable TV\",Internet,\"Wireless Internet\",Ki...</td>\n",
       "      <td>4</td>\n",
       "      <td>2.0</td>\n",
       "      <td>Real Bed</td>\n",
       "      <td>moderate</td>\n",
       "      <td>True</td>\n",
       "      <td>LA</td>\n",
       "      <td>...</td>\n",
       "      <td>33.871549</td>\n",
       "      <td>-118.396053</td>\n",
       "      <td>Spacious Hermosa 2 BR on PCH</td>\n",
       "      <td>Hermosa Beach</td>\n",
       "      <td>16</td>\n",
       "      <td>93.0</td>\n",
       "      <td>https://a0.muscache.com/im/pictures/2b86560b-a...</td>\n",
       "      <td>90254</td>\n",
       "      <td>2.0</td>\n",
       "      <td>4.0</td>\n",
       "    </tr>\n",
       "    <tr>\n",
       "      <th>18688039</th>\n",
       "      <td>5.220356</td>\n",
       "      <td>Apartment</td>\n",
       "      <td>Entire home/apt</td>\n",
       "      <td>{TV,Internet,\"Wireless Internet\",\"Air conditio...</td>\n",
       "      <td>5</td>\n",
       "      <td>1.0</td>\n",
       "      <td>Real Bed</td>\n",
       "      <td>moderate</td>\n",
       "      <td>True</td>\n",
       "      <td>NYC</td>\n",
       "      <td>...</td>\n",
       "      <td>40.706749</td>\n",
       "      <td>-73.942377</td>\n",
       "      <td>Modern 2 Bedroom Apartment in Williamsburg</td>\n",
       "      <td>Williamsburg</td>\n",
       "      <td>43</td>\n",
       "      <td>94.0</td>\n",
       "      <td>https://a0.muscache.com/im/pictures/7fbe448c-5...</td>\n",
       "      <td>11206.0</td>\n",
       "      <td>2.0</td>\n",
       "      <td>2.0</td>\n",
       "    </tr>\n",
       "    <tr>\n",
       "      <th>17045948</th>\n",
       "      <td>5.273000</td>\n",
       "      <td>Apartment</td>\n",
       "      <td>Entire home/apt</td>\n",
       "      <td>{TV,\"Wireless Internet\",\"Air conditioning\",Kit...</td>\n",
       "      <td>2</td>\n",
       "      <td>1.0</td>\n",
       "      <td>Real Bed</td>\n",
       "      <td>strict</td>\n",
       "      <td>True</td>\n",
       "      <td>NYC</td>\n",
       "      <td>...</td>\n",
       "      <td>40.738535</td>\n",
       "      <td>-74.000157</td>\n",
       "      <td>Designer's Apartment in HEART of NYC</td>\n",
       "      <td>West Village</td>\n",
       "      <td>0</td>\n",
       "      <td>NaN</td>\n",
       "      <td>https://a0.muscache.com/im/pictures/b3971b63-0...</td>\n",
       "      <td>10011</td>\n",
       "      <td>0.0</td>\n",
       "      <td>2.0</td>\n",
       "    </tr>\n",
       "    <tr>\n",
       "      <th>3534845</th>\n",
       "      <td>4.852030</td>\n",
       "      <td>Boat</td>\n",
       "      <td>Entire home/apt</td>\n",
       "      <td>{TV,Internet,\"Wireless Internet\",Kitchen,\"Free...</td>\n",
       "      <td>4</td>\n",
       "      <td>1.0</td>\n",
       "      <td>Real Bed</td>\n",
       "      <td>moderate</td>\n",
       "      <td>False</td>\n",
       "      <td>LA</td>\n",
       "      <td>...</td>\n",
       "      <td>33.761096</td>\n",
       "      <td>-118.192409</td>\n",
       "      <td>Cozy Boat at Shoreline Village</td>\n",
       "      <td>Long Beach</td>\n",
       "      <td>205</td>\n",
       "      <td>96.0</td>\n",
       "      <td>https://a0.muscache.com/im/pictures/22968537/d...</td>\n",
       "      <td>90802</td>\n",
       "      <td>1.0</td>\n",
       "      <td>2.0</td>\n",
       "    </tr>\n",
       "  </tbody>\n",
       "</table>\n",
       "<p>74111 rows × 28 columns</p>\n",
       "</div>"
      ],
      "text/plain": [
       "          log_price property_type        room_type  \\\n",
       "id                                                   \n",
       "6901257    5.010635     Apartment  Entire home/apt   \n",
       "6304928    5.129899     Apartment  Entire home/apt   \n",
       "7919400    4.976734     Apartment  Entire home/apt   \n",
       "13418779   6.620073         House  Entire home/apt   \n",
       "3808709    4.744932     Apartment  Entire home/apt   \n",
       "...             ...           ...              ...   \n",
       "14549287   4.605170     Apartment     Private room   \n",
       "13281809   5.043425     Apartment  Entire home/apt   \n",
       "18688039   5.220356     Apartment  Entire home/apt   \n",
       "17045948   5.273000     Apartment  Entire home/apt   \n",
       "3534845    4.852030          Boat  Entire home/apt   \n",
       "\n",
       "                                                  amenities  accommodates  \\\n",
       "id                                                                          \n",
       "6901257   {\"Wireless Internet\",\"Air conditioning\",Kitche...             3   \n",
       "6304928   {\"Wireless Internet\",\"Air conditioning\",Kitche...             7   \n",
       "7919400   {TV,\"Cable TV\",\"Wireless Internet\",\"Air condit...             5   \n",
       "13418779  {TV,\"Cable TV\",Internet,\"Wireless Internet\",Ki...             4   \n",
       "3808709   {TV,Internet,\"Wireless Internet\",\"Air conditio...             2   \n",
       "...                                                     ...           ...   \n",
       "14549287                                                 {}             1   \n",
       "13281809  {TV,\"Cable TV\",Internet,\"Wireless Internet\",Ki...             4   \n",
       "18688039  {TV,Internet,\"Wireless Internet\",\"Air conditio...             5   \n",
       "17045948  {TV,\"Wireless Internet\",\"Air conditioning\",Kit...             2   \n",
       "3534845   {TV,Internet,\"Wireless Internet\",Kitchen,\"Free...             4   \n",
       "\n",
       "          bathrooms  bed_type cancellation_policy  cleaning_fee city  ...  \\\n",
       "id                                                                    ...   \n",
       "6901257         1.0  Real Bed              strict          True  NYC  ...   \n",
       "6304928         1.0  Real Bed              strict          True  NYC  ...   \n",
       "7919400         1.0  Real Bed            moderate          True  NYC  ...   \n",
       "13418779        1.0  Real Bed            flexible          True   SF  ...   \n",
       "3808709         1.0  Real Bed            moderate          True   DC  ...   \n",
       "...             ...       ...                 ...           ...  ...  ...   \n",
       "14549287        1.0  Real Bed            flexible         False  NYC  ...   \n",
       "13281809        2.0  Real Bed            moderate          True   LA  ...   \n",
       "18688039        1.0  Real Bed            moderate          True  NYC  ...   \n",
       "17045948        1.0  Real Bed              strict          True  NYC  ...   \n",
       "3534845         1.0  Real Bed            moderate         False   LA  ...   \n",
       "\n",
       "           latitude   longitude                                        name  \\\n",
       "id                                                                            \n",
       "6901257   40.696524  -73.991617              Beautiful brownstone 1-bedroom   \n",
       "6304928   40.766115  -73.989040    Superb 3BR Apt Located Near Times Square   \n",
       "7919400   40.808110  -73.943756                            The Garden Oasis   \n",
       "13418779  37.772004 -122.431619          Beautiful Flat in the Heart of SF!   \n",
       "3808709   38.925627  -77.034596                  Great studio in midtown DC   \n",
       "...             ...         ...                                         ...   \n",
       "14549287  40.709025  -73.939405                           one room bushwick   \n",
       "13281809  33.871549 -118.396053                Spacious Hermosa 2 BR on PCH   \n",
       "18688039  40.706749  -73.942377  Modern 2 Bedroom Apartment in Williamsburg   \n",
       "17045948  40.738535  -74.000157        Designer's Apartment in HEART of NYC   \n",
       "3534845   33.761096 -118.192409              Cozy Boat at Shoreline Village   \n",
       "\n",
       "             neighbourhood number_of_reviews review_scores_rating  \\\n",
       "id                                                                  \n",
       "6901257   Brooklyn Heights                 2                100.0   \n",
       "6304928     Hell's Kitchen                 6                 93.0   \n",
       "7919400             Harlem                10                 92.0   \n",
       "13418779      Lower Haight                 0                  NaN   \n",
       "3808709   Columbia Heights                 4                 40.0   \n",
       "...                    ...               ...                  ...   \n",
       "14549287      Williamsburg                 0                  NaN   \n",
       "13281809     Hermosa Beach                16                 93.0   \n",
       "18688039      Williamsburg                43                 94.0   \n",
       "17045948      West Village                 0                  NaN   \n",
       "3534845         Long Beach               205                 96.0   \n",
       "\n",
       "                                              thumbnail_url  zipcode  \\\n",
       "id                                                                     \n",
       "6901257   https://a0.muscache.com/im/pictures/6d7cbbf7-c...    11201   \n",
       "6304928   https://a0.muscache.com/im/pictures/348a55fe-4...    10019   \n",
       "7919400   https://a0.muscache.com/im/pictures/6fae5362-9...    10027   \n",
       "13418779  https://a0.muscache.com/im/pictures/72208dad-9...  94117.0   \n",
       "3808709                                                 NaN    20009   \n",
       "...                                                     ...      ...   \n",
       "14549287  https://a0.muscache.com/im/pictures/55162426/6...  11206.0   \n",
       "13281809  https://a0.muscache.com/im/pictures/2b86560b-a...    90254   \n",
       "18688039  https://a0.muscache.com/im/pictures/7fbe448c-5...  11206.0   \n",
       "17045948  https://a0.muscache.com/im/pictures/b3971b63-0...    10011   \n",
       "3534845   https://a0.muscache.com/im/pictures/22968537/d...    90802   \n",
       "\n",
       "          bedrooms  beds  \n",
       "id                        \n",
       "6901257        1.0   1.0  \n",
       "6304928        3.0   3.0  \n",
       "7919400        1.0   3.0  \n",
       "13418779       2.0   2.0  \n",
       "3808709        0.0   1.0  \n",
       "...            ...   ...  \n",
       "14549287       1.0   1.0  \n",
       "13281809       2.0   4.0  \n",
       "18688039       2.0   2.0  \n",
       "17045948       0.0   2.0  \n",
       "3534845        1.0   2.0  \n",
       "\n",
       "[74111 rows x 28 columns]"
      ]
     },
     "execution_count": 39,
     "metadata": {},
     "output_type": "execute_result"
    }
   ],
   "source": [
    "df = pd.read_csv('./train.csv', index_col=\"id\")\n",
    "df"
   ]
  },
  {
   "cell_type": "code",
   "execution_count": 40,
   "metadata": {},
   "outputs": [
    {
     "data": {
      "text/plain": [
       "Index(['log_price', 'property_type', 'room_type', 'amenities', 'accommodates',\n",
       "       'bathrooms', 'bed_type', 'cancellation_policy', 'cleaning_fee', 'city',\n",
       "       'description', 'first_review', 'host_has_profile_pic',\n",
       "       'host_identity_verified', 'host_response_rate', 'host_since',\n",
       "       'instant_bookable', 'last_review', 'latitude', 'longitude', 'name',\n",
       "       'neighbourhood', 'number_of_reviews', 'review_scores_rating',\n",
       "       'thumbnail_url', 'zipcode', 'bedrooms', 'beds'],\n",
       "      dtype='object')"
      ]
     },
     "execution_count": 40,
     "metadata": {},
     "output_type": "execute_result"
    }
   ],
   "source": [
    "df.columns"
   ]
  },
  {
   "cell_type": "code",
   "execution_count": 41,
   "metadata": {},
   "outputs": [
    {
     "data": {
      "text/html": [
       "<div>\n",
       "<style scoped>\n",
       "    .dataframe tbody tr th:only-of-type {\n",
       "        vertical-align: middle;\n",
       "    }\n",
       "\n",
       "    .dataframe tbody tr th {\n",
       "        vertical-align: top;\n",
       "    }\n",
       "\n",
       "    .dataframe thead th {\n",
       "        text-align: right;\n",
       "    }\n",
       "</style>\n",
       "<table border=\"1\" class=\"dataframe\">\n",
       "  <thead>\n",
       "    <tr style=\"text-align: right;\">\n",
       "      <th></th>\n",
       "      <th>log_price</th>\n",
       "      <th>property_type</th>\n",
       "      <th>room_type</th>\n",
       "      <th>amenities</th>\n",
       "      <th>accommodates</th>\n",
       "      <th>bathrooms</th>\n",
       "      <th>bed_type</th>\n",
       "      <th>cancellation_policy</th>\n",
       "      <th>cleaning_fee</th>\n",
       "      <th>city</th>\n",
       "      <th>...</th>\n",
       "      <th>latitude</th>\n",
       "      <th>longitude</th>\n",
       "      <th>name</th>\n",
       "      <th>neighbourhood</th>\n",
       "      <th>number_of_reviews</th>\n",
       "      <th>review_scores_rating</th>\n",
       "      <th>thumbnail_url</th>\n",
       "      <th>zipcode</th>\n",
       "      <th>bedrooms</th>\n",
       "      <th>beds</th>\n",
       "    </tr>\n",
       "    <tr>\n",
       "      <th>id</th>\n",
       "      <th></th>\n",
       "      <th></th>\n",
       "      <th></th>\n",
       "      <th></th>\n",
       "      <th></th>\n",
       "      <th></th>\n",
       "      <th></th>\n",
       "      <th></th>\n",
       "      <th></th>\n",
       "      <th></th>\n",
       "      <th></th>\n",
       "      <th></th>\n",
       "      <th></th>\n",
       "      <th></th>\n",
       "      <th></th>\n",
       "      <th></th>\n",
       "      <th></th>\n",
       "      <th></th>\n",
       "      <th></th>\n",
       "      <th></th>\n",
       "      <th></th>\n",
       "    </tr>\n",
       "  </thead>\n",
       "  <tbody>\n",
       "    <tr>\n",
       "      <th>6901257</th>\n",
       "      <td>5.010635</td>\n",
       "      <td>Apartment</td>\n",
       "      <td>Entire home/apt</td>\n",
       "      <td>{\"Wireless Internet\",\"Air conditioning\",Kitche...</td>\n",
       "      <td>3</td>\n",
       "      <td>1.0</td>\n",
       "      <td>Real Bed</td>\n",
       "      <td>strict</td>\n",
       "      <td>True</td>\n",
       "      <td>NYC</td>\n",
       "      <td>...</td>\n",
       "      <td>40.696524</td>\n",
       "      <td>-73.991617</td>\n",
       "      <td>Beautiful brownstone 1-bedroom</td>\n",
       "      <td>Brooklyn Heights</td>\n",
       "      <td>2</td>\n",
       "      <td>100.0</td>\n",
       "      <td>https://a0.muscache.com/im/pictures/6d7cbbf7-c...</td>\n",
       "      <td>11201</td>\n",
       "      <td>1.0</td>\n",
       "      <td>1.0</td>\n",
       "    </tr>\n",
       "  </tbody>\n",
       "</table>\n",
       "<p>1 rows × 28 columns</p>\n",
       "</div>"
      ],
      "text/plain": [
       "         log_price property_type        room_type  \\\n",
       "id                                                  \n",
       "6901257   5.010635     Apartment  Entire home/apt   \n",
       "\n",
       "                                                 amenities  accommodates  \\\n",
       "id                                                                         \n",
       "6901257  {\"Wireless Internet\",\"Air conditioning\",Kitche...             3   \n",
       "\n",
       "         bathrooms  bed_type cancellation_policy  cleaning_fee city  ...  \\\n",
       "id                                                                   ...   \n",
       "6901257        1.0  Real Bed              strict          True  NYC  ...   \n",
       "\n",
       "          latitude  longitude                            name  \\\n",
       "id                                                              \n",
       "6901257  40.696524 -73.991617  Beautiful brownstone 1-bedroom   \n",
       "\n",
       "            neighbourhood number_of_reviews review_scores_rating  \\\n",
       "id                                                                 \n",
       "6901257  Brooklyn Heights                 2                100.0   \n",
       "\n",
       "                                             thumbnail_url zipcode  bedrooms  \\\n",
       "id                                                                             \n",
       "6901257  https://a0.muscache.com/im/pictures/6d7cbbf7-c...   11201       1.0   \n",
       "\n",
       "         beds  \n",
       "id             \n",
       "6901257   1.0  \n",
       "\n",
       "[1 rows x 28 columns]"
      ]
     },
     "execution_count": 41,
     "metadata": {},
     "output_type": "execute_result"
    }
   ],
   "source": [
    "df[:1]"
   ]
  },
  {
   "cell_type": "code",
   "execution_count": 42,
   "metadata": {},
   "outputs": [
    {
     "data": {
      "text/plain": [
       "(74111, 28)"
      ]
     },
     "execution_count": 42,
     "metadata": {},
     "output_type": "execute_result"
    }
   ],
   "source": [
    "df.shape"
   ]
  },
  {
   "cell_type": "markdown",
   "metadata": {},
   "source": [
    "### Price distribution"
   ]
  },
  {
   "cell_type": "code",
   "execution_count": 43,
   "metadata": {},
   "outputs": [
    {
     "data": {
      "text/html": [
       "<div>\n",
       "<style scoped>\n",
       "    .dataframe tbody tr th:only-of-type {\n",
       "        vertical-align: middle;\n",
       "    }\n",
       "\n",
       "    .dataframe tbody tr th {\n",
       "        vertical-align: top;\n",
       "    }\n",
       "\n",
       "    .dataframe thead th {\n",
       "        text-align: right;\n",
       "    }\n",
       "</style>\n",
       "<table border=\"1\" class=\"dataframe\">\n",
       "  <thead>\n",
       "    <tr style=\"text-align: right;\">\n",
       "      <th></th>\n",
       "      <th>log_price</th>\n",
       "    </tr>\n",
       "    <tr>\n",
       "      <th>id</th>\n",
       "      <th></th>\n",
       "    </tr>\n",
       "  </thead>\n",
       "  <tbody>\n",
       "    <tr>\n",
       "      <th>6901257</th>\n",
       "      <td>5.010635</td>\n",
       "    </tr>\n",
       "    <tr>\n",
       "      <th>6304928</th>\n",
       "      <td>5.129899</td>\n",
       "    </tr>\n",
       "    <tr>\n",
       "      <th>7919400</th>\n",
       "      <td>4.976734</td>\n",
       "    </tr>\n",
       "    <tr>\n",
       "      <th>13418779</th>\n",
       "      <td>6.620073</td>\n",
       "    </tr>\n",
       "    <tr>\n",
       "      <th>3808709</th>\n",
       "      <td>4.744932</td>\n",
       "    </tr>\n",
       "    <tr>\n",
       "      <th>...</th>\n",
       "      <td>...</td>\n",
       "    </tr>\n",
       "    <tr>\n",
       "      <th>14549287</th>\n",
       "      <td>4.605170</td>\n",
       "    </tr>\n",
       "    <tr>\n",
       "      <th>13281809</th>\n",
       "      <td>5.043425</td>\n",
       "    </tr>\n",
       "    <tr>\n",
       "      <th>18688039</th>\n",
       "      <td>5.220356</td>\n",
       "    </tr>\n",
       "    <tr>\n",
       "      <th>17045948</th>\n",
       "      <td>5.273000</td>\n",
       "    </tr>\n",
       "    <tr>\n",
       "      <th>3534845</th>\n",
       "      <td>4.852030</td>\n",
       "    </tr>\n",
       "  </tbody>\n",
       "</table>\n",
       "<p>74111 rows × 1 columns</p>\n",
       "</div>"
      ],
      "text/plain": [
       "          log_price\n",
       "id                 \n",
       "6901257    5.010635\n",
       "6304928    5.129899\n",
       "7919400    4.976734\n",
       "13418779   6.620073\n",
       "3808709    4.744932\n",
       "...             ...\n",
       "14549287   4.605170\n",
       "13281809   5.043425\n",
       "18688039   5.220356\n",
       "17045948   5.273000\n",
       "3534845    4.852030\n",
       "\n",
       "[74111 rows x 1 columns]"
      ]
     },
     "execution_count": 43,
     "metadata": {},
     "output_type": "execute_result"
    }
   ],
   "source": [
    "prices = df[['log_price']]\n",
    "prices"
   ]
  },
  {
   "cell_type": "markdown",
   "metadata": {},
   "source": [
    "## Histograma\n",
    "Realizamos un histograma para ver la distribución de los precios."
   ]
  },
  {
   "cell_type": "code",
   "execution_count": 44,
   "metadata": {},
   "outputs": [
    {
     "data": {
      "image/png": "[encoded data removed]",
      "text/plain": [
       "<Figure size 640x480 with 1 Axes>"
      ]
     },
     "metadata": {},
     "output_type": "display_data"
    }
   ],
   "source": [
    "import matplotlib.pyplot as plt\n",
    "import seaborn as sb\n",
    "plt.hist(prices, bins=50)\n",
    "plt.title(\"Prices Distribution\")\n",
    "plt.xlabel(\"logaritmic scale prices\")\n",
    "plt.ylabel(\"number\")\n",
    "plt.show()\n",
    "plt.show()"
   ]
  },
  {
   "cell_type": "markdown",
   "metadata": {},
   "source": [
    "Mapeamos la latitud y longitud para preciar cual es la distribución de las casas"
   ]
  },
  {
   "cell_type": "code",
   "execution_count": 45,
   "metadata": {},
   "outputs": [
    {
     "data": {
      "image/png": "[encoded data removed]",
      "text/plain": [
       "<Figure size 1000x600 with 1 Axes>"
      ]
     },
     "metadata": {},
     "output_type": "display_data"
    }
   ],
   "source": [
    "from shapely.geometry import Point\n",
    "import geopandas as gpd\n",
    "from geopandas import GeoDataFrame\n",
    "\n",
    "world = gpd.read_file(\n",
    "    \"https://naciscdn.org/naturalearth/110m/cultural/ne_110m_admin_0_countries.zip\")\n",
    "\n",
    "fig, ax = plt.subplots(figsize=(10, 6))\n",
    "\n",
    "geometry = [\n",
    "    Point(xy) for xy in zip(df['longitude'], df['latitude'])\n",
    "]\n",
    "\n",
    "\n",
    "gdf = GeoDataFrame(df, geometry=geometry)\n",
    "GeoDataFrame(world.loc[4, :]).T[\"geometry\"].plot(ax=ax)\n",
    "ax.set_xlim(-125, -70)\n",
    "ax.set_ylim(25, 50)\n",
    "\n",
    "gdf.plot(ax=ax, marker='o', color='red', markersize=15)\n",
    "\n",
    "for idx, row in df[:18].iterrows():\n",
    "    ax.annotate(row['city'], (row['longitude'], row['latitude']))\n",
    "\n",
    "plt.title(\"Location\")\n",
    "plt.xlabel(\"Longitude\")\n",
    "plt.ylabel(\"Latitude\")\n",
    "plt.show()"
   ]
  },
  {
   "cell_type": "markdown",
   "metadata": {},
   "source": [
    "## Feature selection"
   ]
  },
  {
   "cell_type": "markdown",
   "metadata": {},
   "source": [
    "- Voy a quitar las siguientes Features:  \n",
    "\n",
    " |           Feature|Razón                                       |  \n",
    " |------------------|--------------------------------------------|  \n",
    " |Latitud y Longitud|Ya tenemos el nombre de la ciudad           |\n",
    " |Descripción|Al ser textos tan diferentes no es fácil de trabajar en regression|  \n",
    " |first_review|Es texto|  \n",
    " |thumbnail_url|Son URL que no tienen relación con el precio|  \n",
    " |zipcode|Es un código postal, al ya tener las ciudades no creo que sea importante|  \n",
    " |name|Son todos nombre únicos que no influencian el precio|  \n",
    " -----"
   ]
  },
  {
   "cell_type": "code",
   "execution_count": 46,
   "metadata": {},
   "outputs": [
    {
     "data": {
      "text/plain": [
       "(74111, 21)"
      ]
     },
     "execution_count": 46,
     "metadata": {},
     "output_type": "execute_result"
    }
   ],
   "source": [
    "df = df.drop(columns=['latitude', 'longitude', 'description',\n",
    "             'first_review', 'thumbnail_url', 'zipcode', 'name'])\n",
    "df.shape"
   ]
  },
  {
   "cell_type": "markdown",
   "metadata": {},
   "source": [
    "## Eliminar filas con campos NaN\n",
    "\n",
    "Prácticamente el 40% de las filas del dataset tienen algún campo completado con NaN. Como se trata de muchas filas, decidí que eliminaré la menor cantidad posible."
   ]
  },
  {
   "cell_type": "code",
   "execution_count": 47,
   "metadata": {},
   "outputs": [],
   "source": [
    "filas_con_nan = df.isna().any(axis=1)\n",
    "cantNan = filas_con_nan.sum()"
   ]
  },
  {
   "cell_type": "code",
   "execution_count": 48,
   "metadata": {},
   "outputs": [
    {
     "data": {
      "text/plain": [
       "0.4185613471684365"
      ]
     },
     "execution_count": 48,
     "metadata": {},
     "output_type": "execute_result"
    }
   ],
   "source": [
    "# Porcentaje de filas que tienen almenos un NaN\n",
    "cantNan / df.shape[0]"
   ]
  },
  {
   "cell_type": "code",
   "execution_count": 49,
   "metadata": {},
   "outputs": [
    {
     "data": {
      "text/plain": [
       "log_price                     0\n",
       "property_type                 0\n",
       "room_type                     0\n",
       "amenities                     0\n",
       "accommodates                  0\n",
       "bathrooms                   200\n",
       "bed_type                      0\n",
       "cancellation_policy           0\n",
       "cleaning_fee                  0\n",
       "city                          0\n",
       "host_has_profile_pic        188\n",
       "host_identity_verified      188\n",
       "host_response_rate        18299\n",
       "host_since                  188\n",
       "instant_bookable              0\n",
       "last_review               15827\n",
       "neighbourhood              6872\n",
       "number_of_reviews             0\n",
       "review_scores_rating      16722\n",
       "bedrooms                     91\n",
       "beds                        131\n",
       "dtype: int64"
      ]
     },
     "execution_count": 49,
     "metadata": {},
     "output_type": "execute_result"
    }
   ],
   "source": [
    "df.isna().sum()"
   ]
  },
  {
   "cell_type": "markdown",
   "metadata": {},
   "source": [
    "Features que pueden admitir un valor pordefecto:\n",
    "- bathrooms : 0\n",
    "- host_has_profile_pic: False\n",
    "- host_identity_verified: False\n",
    "- host_response_rate: 0\n",
    "- review_scores_rating: 0\n",
    "- bedrooms: 0\n",
    "- beds: 0\n",
    "\n",
    "Las Features con Nan que no voy a especular son:\n",
    "- host_since\n",
    "- last_review\n",
    "- neighbourhood"
   ]
  },
  {
   "cell_type": "code",
   "execution_count": 50,
   "metadata": {},
   "outputs": [],
   "source": [
    "df.loc[df[\"bathrooms\"].isna(), \"bathrooms\"] = 0\n",
    "df.loc[df[\"host_has_profile_pic\"].isna(), \"host_has_profile_pic\"] = 'f'\n",
    "df.loc[df[\"host_identity_verified\"].isna(), \"host_identity_verified\"] = 'f'\n",
    "df.loc[df[\"host_response_rate\"].isna(), \"host_response_rate\"] = 0\n",
    "df.loc[df[\"review_scores_rating\"].isna(), \"review_scores_rating\"] = 0\n",
    "df.loc[df[\"bedrooms\"].isna(), \"bedrooms\"] = 0\n",
    "df.loc[df[\"beds\"].isna(), \"beds\"] = 0"
   ]
  },
  {
   "cell_type": "code",
   "execution_count": 51,
   "metadata": {},
   "outputs": [
    {
     "data": {
      "text/plain": [
       "0.2844651941007408"
      ]
     },
     "execution_count": 51,
     "metadata": {},
     "output_type": "execute_result"
    }
   ],
   "source": [
    "filas_con_nan = df.isna().any(axis=1)\n",
    "cantNan = filas_con_nan.sum()\n",
    "cantNan / df.shape[0]"
   ]
  },
  {
   "cell_type": "markdown",
   "metadata": {},
   "source": [
    "Pudimos bajar casi un 10% la cantidad de filas con NaN en sus campos.\n",
    "Ahora eliminaremos los que quedan."
   ]
  },
  {
   "cell_type": "code",
   "execution_count": 52,
   "metadata": {},
   "outputs": [
    {
     "data": {
      "text/plain": [
       "(53029, 21)"
      ]
     },
     "execution_count": 52,
     "metadata": {},
     "output_type": "execute_result"
    }
   ],
   "source": [
    "df = df.dropna()\n",
    "df.shape"
   ]
  },
  {
   "cell_type": "markdown",
   "metadata": {},
   "source": [
    "### Normalización de Features"
   ]
  },
  {
   "cell_type": "code",
   "execution_count": 53,
   "metadata": {},
   "outputs": [],
   "source": [
    "# Variable Numerica\n",
    "df[['accommodates', 'number_of_reviews', 'bedrooms', 'beds', 'bathrooms']] = df[[\n",
    "    'accommodates', 'number_of_reviews', 'bedrooms', 'beds', 'bathrooms']].astype(int)\n",
    "\n",
    "# Normalizar Variables entre 0 y 1.\n",
    "df['host_response_rate'] = df['host_response_rate'].apply(\n",
    "    lambda x: float(str(x).strip(\"%\"))/100)\n",
    "\n",
    "max_val = float(df['review_scores_rating'].max())\n",
    "min_val = float(df['review_scores_rating'].min())\n",
    "df['review_scores_rating'] = (\n",
    "    (0.99 - 0.01) * (df['review_scores_rating'] - min_val) / (max_val - min_val)) + 0.01\n",
    "\n",
    "# Varaible categoricas Nominales a Numericas\n",
    "df['property_type'] = pd.Categorical(df['property_type']).factorize()[0]\n",
    "df['room_type'] = pd.Categorical(df['room_type']).factorize()[0]\n",
    "df['bed_type'] = pd.Categorical(df['bed_type']).factorize()[0]\n",
    "df['city'] = pd.Categorical(df['city']).factorize()[0]\n",
    "df['neighbourhood'] = pd.Categorical(df['neighbourhood']).factorize()[0]\n",
    "\n",
    "# Varaibles Date a Ordinal\n",
    "df['host_since'] = (pd.to_numeric(pd.to_datetime(\n",
    "    df['host_since'])) / pow(10, 11)).apply(int)\n",
    "df['last_review'] = (pd.to_numeric(pd.to_datetime(\n",
    "    df['last_review'])) / pow(10, 11)).apply(int)\n",
    "\n",
    "# Categoricos Ordinales a Numerica\n",
    "df['cancellation_policy'] = df['cancellation_policy'].replace({\n",
    "    'flexible': 0,\n",
    "    'moderate': 1,\n",
    "    'strict': 2,\n",
    "    'super_strict_30': 3,\n",
    "    'super_strict_60': 4\n",
    "})\n",
    "\n",
    "# Normalizar Booleanos a Numerica\n",
    "df['cleaning_fee'] = df['cleaning_fee'].replace({\n",
    "    False: 0,\n",
    "    True: 1\n",
    "})\n",
    "\n",
    "# Normalizar a True o False y luego a Numerica\n",
    "df[['host_has_profile_pic', 'host_identity_verified', 'instant_bookable']] = df[[\n",
    "    'host_has_profile_pic',\n",
    "    'host_identity_verified',\n",
    "    'instant_bookable'\n",
    "]].replace({'f': 0, 't': 1})"
   ]
  },
  {
   "cell_type": "markdown",
   "metadata": {},
   "source": [
    "### Amenities encoding\n",
    "Las amenities son un conjunto de etiquetas que se le asignan a cada casa o departamento que lo describen. Como creo que tienen una fuerte influencia en el precio he decidido hacer un one-hot encoding para poder trabajarlas numéricamente. Esto resultara en una mayor cantidad de Features."
   ]
  },
  {
   "cell_type": "code",
   "execution_count": 54,
   "metadata": {},
   "outputs": [],
   "source": [
    "# Funciones para \"escanear\" las etiquetas\n",
    "def cleanElement(L):\n",
    "    for i in range(0, len(L)):\n",
    "        L[i] = L[i].strip(\" \").strip(\"\\\"\\\"\")\n",
    "    return L\n",
    "\n",
    "\n",
    "def toList(amenities):\n",
    "    l = amenities.strip(\"{}\").strip(\" \").split(\",\")\n",
    "    return l\n",
    "\n",
    "\n",
    "categories = df[\"amenities\"].apply(toList)\n",
    "\n",
    "# Obtener un conjunto de las etiquetas\n",
    "allCategories = set()\n",
    "for category in categories.items():\n",
    "    allCategories.update(set(category[1]))\n",
    "allCategories.discard('')"
   ]
  },
  {
   "cell_type": "code",
   "execution_count": 55,
   "metadata": {},
   "outputs": [
    {
     "data": {
      "text/plain": [
       "(53029, 130)"
      ]
     },
     "execution_count": 55,
     "metadata": {},
     "output_type": "execute_result"
    }
   ],
   "source": [
    "catdf = pd.DataFrame()\n",
    "for cat in list(allCategories):\n",
    "    catdf = pd.concat([catdf, categories.apply(\n",
    "        lambda x: x.count(cat)).rename(cat)], axis=1)\n",
    "catdf.shape"
   ]
  },
  {
   "cell_type": "code",
   "execution_count": 56,
   "metadata": {},
   "outputs": [
    {
     "data": {
      "text/plain": [
       "(53029, 20)"
      ]
     },
     "execution_count": 56,
     "metadata": {},
     "output_type": "execute_result"
    }
   ],
   "source": [
    "df = df.drop(columns=['amenities'])\n",
    "# df = pd.concat([df,catdf],axis=1)\n",
    "df.shape"
   ]
  },
  {
   "cell_type": "markdown",
   "metadata": {},
   "source": [
    "# Separando el conjunto en training y testing"
   ]
  },
  {
   "cell_type": "code",
   "execution_count": 57,
   "metadata": {},
   "outputs": [],
   "source": [
    "df.sample(frac=0.7, replace=False, random_state=17).to_csv(\"./my_train.csv\")"
   ]
  },
  {
   "cell_type": "code",
   "execution_count": 58,
   "metadata": {},
   "outputs": [],
   "source": [
    "# Datos de entrenamiento\n",
    "train_data = df.sample(frac=0.7, replace=False, random_state=17)\n",
    "train_labels = train_data['log_price']\n",
    "train_data = train_data.drop(columns=['log_price'], axis=1)\n",
    "# Datos de prueba\n",
    "test_data = df.drop(labels=train_data.index, axis=0)\n",
    "test_labels = test_data['log_price']\n",
    "test_data = test_data.drop(columns=['log_price'], axis=1)"
   ]
  },
  {
   "cell_type": "markdown",
   "metadata": {},
   "source": [
    "## Regresión Lineal Simple"
   ]
  },
  {
   "cell_type": "code",
   "execution_count": 59,
   "metadata": {},
   "outputs": [
    {
     "data": {
      "text/html": [
       "<table class=\"simpletable\">\n",
       "<caption>OLS Regression Results</caption>\n",
       "<tr>\n",
       "  <th>Dep. Variable:</th>        <td>log_price</td>    <th>  R-squared (uncentered):</th>      <td>   0.991</td> \n",
       "</tr>\n",
       "<tr>\n",
       "  <th>Model:</th>                   <td>OLS</td>       <th>  Adj. R-squared (uncentered):</th> <td>   0.991</td> \n",
       "</tr>\n",
       "<tr>\n",
       "  <th>Method:</th>             <td>Least Squares</td>  <th>  F-statistic:       </th>          <td>2.275e+05</td>\n",
       "</tr>\n",
       "<tr>\n",
       "  <th>Date:</th>             <td>Tue, 12 Sep 2023</td> <th>  Prob (F-statistic):</th>           <td>  0.00</td>  \n",
       "</tr>\n",
       "<tr>\n",
       "  <th>Time:</th>                 <td>13:19:26</td>     <th>  Log-Likelihood:    </th>          <td> -22516.</td> \n",
       "</tr>\n",
       "<tr>\n",
       "  <th>No. Observations:</th>      <td> 37120</td>      <th>  AIC:               </th>          <td>4.507e+04</td>\n",
       "</tr>\n",
       "<tr>\n",
       "  <th>Df Residuals:</th>          <td> 37101</td>      <th>  BIC:               </th>          <td>4.523e+04</td>\n",
       "</tr>\n",
       "<tr>\n",
       "  <th>Df Model:</th>              <td>    19</td>      <th>                     </th>              <td> </td>    \n",
       "</tr>\n",
       "<tr>\n",
       "  <th>Covariance Type:</th>      <td>nonrobust</td>    <th>                     </th>              <td> </td>    \n",
       "</tr>\n",
       "</table>\n",
       "<table class=\"simpletable\">\n",
       "<tr>\n",
       "             <td></td>               <th>coef</th>     <th>std err</th>      <th>t</th>      <th>P>|t|</th>  <th>[0.025</th>    <th>0.975]</th>  \n",
       "</tr>\n",
       "<tr>\n",
       "  <th>property_type</th>          <td>    0.0028</td> <td>    0.001</td> <td>    2.656</td> <td> 0.008</td> <td>    0.001</td> <td>    0.005</td>\n",
       "</tr>\n",
       "<tr>\n",
       "  <th>room_type</th>              <td>   -0.5922</td> <td>    0.005</td> <td> -117.365</td> <td> 0.000</td> <td>   -0.602</td> <td>   -0.582</td>\n",
       "</tr>\n",
       "<tr>\n",
       "  <th>accommodates</th>           <td>    0.0748</td> <td>    0.002</td> <td>   33.044</td> <td> 0.000</td> <td>    0.070</td> <td>    0.079</td>\n",
       "</tr>\n",
       "<tr>\n",
       "  <th>bathrooms</th>              <td>    0.1381</td> <td>    0.005</td> <td>   25.443</td> <td> 0.000</td> <td>    0.127</td> <td>    0.149</td>\n",
       "</tr>\n",
       "<tr>\n",
       "  <th>bed_type</th>               <td>    0.0045</td> <td>    0.006</td> <td>    0.785</td> <td> 0.432</td> <td>   -0.007</td> <td>    0.016</td>\n",
       "</tr>\n",
       "<tr>\n",
       "  <th>cancellation_policy</th>    <td>    0.0292</td> <td>    0.003</td> <td>    9.481</td> <td> 0.000</td> <td>    0.023</td> <td>    0.035</td>\n",
       "</tr>\n",
       "<tr>\n",
       "  <th>cleaning_fee</th>           <td>    0.0029</td> <td>    0.006</td> <td>    0.480</td> <td> 0.631</td> <td>   -0.009</td> <td>    0.015</td>\n",
       "</tr>\n",
       "<tr>\n",
       "  <th>city</th>                   <td>   -0.0066</td> <td>    0.002</td> <td>   -4.319</td> <td> 0.000</td> <td>   -0.010</td> <td>   -0.004</td>\n",
       "</tr>\n",
       "<tr>\n",
       "  <th>host_has_profile_pic</th>   <td>    0.2890</td> <td>    0.054</td> <td>    5.365</td> <td> 0.000</td> <td>    0.183</td> <td>    0.395</td>\n",
       "</tr>\n",
       "<tr>\n",
       "  <th>host_identity_verified</th> <td>   -0.0012</td> <td>    0.005</td> <td>   -0.217</td> <td> 0.828</td> <td>   -0.012</td> <td>    0.010</td>\n",
       "</tr>\n",
       "<tr>\n",
       "  <th>host_response_rate</th>     <td>   -0.1130</td> <td>    0.007</td> <td>  -16.852</td> <td> 0.000</td> <td>   -0.126</td> <td>   -0.100</td>\n",
       "</tr>\n",
       "<tr>\n",
       "  <th>host_since</th>             <td>-3.913e-08</td> <td> 4.43e-09</td> <td>   -8.841</td> <td> 0.000</td> <td>-4.78e-08</td> <td>-3.05e-08</td>\n",
       "</tr>\n",
       "<tr>\n",
       "  <th>instant_bookable</th>       <td>   -0.0563</td> <td>    0.005</td> <td>  -10.380</td> <td> 0.000</td> <td>   -0.067</td> <td>   -0.046</td>\n",
       "</tr>\n",
       "<tr>\n",
       "  <th>last_review</th>            <td> 3.168e-07</td> <td> 5.66e-09</td> <td>   55.966</td> <td> 0.000</td> <td> 3.06e-07</td> <td> 3.28e-07</td>\n",
       "</tr>\n",
       "<tr>\n",
       "  <th>neighbourhood</th>          <td>   -0.0005</td> <td> 2.25e-05</td> <td>  -20.354</td> <td> 0.000</td> <td>   -0.001</td> <td>   -0.000</td>\n",
       "</tr>\n",
       "<tr>\n",
       "  <th>number_of_reviews</th>      <td>   -0.0005</td> <td> 5.99e-05</td> <td>   -7.642</td> <td> 0.000</td> <td>   -0.001</td> <td>   -0.000</td>\n",
       "</tr>\n",
       "<tr>\n",
       "  <th>review_scores_rating</th>   <td>    0.1870</td> <td>    0.017</td> <td>   10.853</td> <td> 0.000</td> <td>    0.153</td> <td>    0.221</td>\n",
       "</tr>\n",
       "<tr>\n",
       "  <th>bedrooms</th>               <td>    0.1568</td> <td>    0.004</td> <td>   35.989</td> <td> 0.000</td> <td>    0.148</td> <td>    0.165</td>\n",
       "</tr>\n",
       "<tr>\n",
       "  <th>beds</th>                   <td>   -0.0391</td> <td>    0.003</td> <td>  -11.398</td> <td> 0.000</td> <td>   -0.046</td> <td>   -0.032</td>\n",
       "</tr>\n",
       "</table>\n",
       "<table class=\"simpletable\">\n",
       "<tr>\n",
       "  <th>Omnibus:</th>       <td>2171.925</td> <th>  Durbin-Watson:     </th> <td>   2.000</td>\n",
       "</tr>\n",
       "<tr>\n",
       "  <th>Prob(Omnibus):</th>  <td> 0.000</td>  <th>  Jarque-Bera (JB):  </th> <td>5761.140</td>\n",
       "</tr>\n",
       "<tr>\n",
       "  <th>Skew:</th>           <td> 0.328</td>  <th>  Prob(JB):          </th> <td>    0.00</td>\n",
       "</tr>\n",
       "<tr>\n",
       "  <th>Kurtosis:</th>       <td> 4.815</td>  <th>  Cond. No.          </th> <td>4.78e+08</td>\n",
       "</tr>\n",
       "</table><br/><br/>Notes:<br/>[1] R² is computed without centering (uncentered) since the model does not contain a constant.<br/>[2] Standard Errors assume that the covariance matrix of the errors is correctly specified.<br/>[3] The condition number is large, 4.78e+08. This might indicate that there are<br/>strong multicollinearity or other numerical problems."
      ],
      "text/latex": [
       "\\begin{center}\n",
       "\\begin{tabular}{lclc}\n",
       "\\toprule\n",
       "\\textbf{Dep. Variable:}           &    log\\_price    & \\textbf{  R-squared (uncentered):}      &     0.991   \\\\\n",
       "\\textbf{Model:}                   &       OLS        & \\textbf{  Adj. R-squared (uncentered):} &     0.991   \\\\\n",
       "\\textbf{Method:}                  &  Least Squares   & \\textbf{  F-statistic:       }          & 2.275e+05   \\\\\n",
       "\\textbf{Date:}                    & Tue, 12 Sep 2023 & \\textbf{  Prob (F-statistic):}          &     0.00    \\\\\n",
       "\\textbf{Time:}                    &     13:19:26     & \\textbf{  Log-Likelihood:    }          &   -22516.   \\\\\n",
       "\\textbf{No. Observations:}        &       37120      & \\textbf{  AIC:               }          & 4.507e+04   \\\\\n",
       "\\textbf{Df Residuals:}            &       37101      & \\textbf{  BIC:               }          & 4.523e+04   \\\\\n",
       "\\textbf{Df Model:}                &          19      & \\textbf{                     }          &             \\\\\n",
       "\\textbf{Covariance Type:}         &    nonrobust     & \\textbf{                     }          &             \\\\\n",
       "\\bottomrule\n",
       "\\end{tabular}\n",
       "\\begin{tabular}{lcccccc}\n",
       "                                  & \\textbf{coef} & \\textbf{std err} & \\textbf{t} & \\textbf{P$> |$t$|$} & \\textbf{[0.025} & \\textbf{0.975]}  \\\\\n",
       "\\midrule\n",
       "\\textbf{property\\_type}           &       0.0028  &        0.001     &     2.656  &         0.008        &        0.001    &        0.005     \\\\\n",
       "\\textbf{room\\_type}               &      -0.5922  &        0.005     &  -117.365  &         0.000        &       -0.602    &       -0.582     \\\\\n",
       "\\textbf{accommodates}             &       0.0748  &        0.002     &    33.044  &         0.000        &        0.070    &        0.079     \\\\\n",
       "\\textbf{bathrooms}                &       0.1381  &        0.005     &    25.443  &         0.000        &        0.127    &        0.149     \\\\\n",
       "\\textbf{bed\\_type}                &       0.0045  &        0.006     &     0.785  &         0.432        &       -0.007    &        0.016     \\\\\n",
       "\\textbf{cancellation\\_policy}     &       0.0292  &        0.003     &     9.481  &         0.000        &        0.023    &        0.035     \\\\\n",
       "\\textbf{cleaning\\_fee}            &       0.0029  &        0.006     &     0.480  &         0.631        &       -0.009    &        0.015     \\\\\n",
       "\\textbf{city}                     &      -0.0066  &        0.002     &    -4.319  &         0.000        &       -0.010    &       -0.004     \\\\\n",
       "\\textbf{host\\_has\\_profile\\_pic}  &       0.2890  &        0.054     &     5.365  &         0.000        &        0.183    &        0.395     \\\\\n",
       "\\textbf{host\\_identity\\_verified} &      -0.0012  &        0.005     &    -0.217  &         0.828        &       -0.012    &        0.010     \\\\\n",
       "\\textbf{host\\_response\\_rate}     &      -0.1130  &        0.007     &   -16.852  &         0.000        &       -0.126    &       -0.100     \\\\\n",
       "\\textbf{host\\_since}              &   -3.913e-08  &     4.43e-09     &    -8.841  &         0.000        &    -4.78e-08    &    -3.05e-08     \\\\\n",
       "\\textbf{instant\\_bookable}        &      -0.0563  &        0.005     &   -10.380  &         0.000        &       -0.067    &       -0.046     \\\\\n",
       "\\textbf{last\\_review}             &    3.168e-07  &     5.66e-09     &    55.966  &         0.000        &     3.06e-07    &     3.28e-07     \\\\\n",
       "\\textbf{neighbourhood}            &      -0.0005  &     2.25e-05     &   -20.354  &         0.000        &       -0.001    &       -0.000     \\\\\n",
       "\\textbf{number\\_of\\_reviews}      &      -0.0005  &     5.99e-05     &    -7.642  &         0.000        &       -0.001    &       -0.000     \\\\\n",
       "\\textbf{review\\_scores\\_rating}   &       0.1870  &        0.017     &    10.853  &         0.000        &        0.153    &        0.221     \\\\\n",
       "\\textbf{bedrooms}                 &       0.1568  &        0.004     &    35.989  &         0.000        &        0.148    &        0.165     \\\\\n",
       "\\textbf{beds}                     &      -0.0391  &        0.003     &   -11.398  &         0.000        &       -0.046    &       -0.032     \\\\\n",
       "\\bottomrule\n",
       "\\end{tabular}\n",
       "\\begin{tabular}{lclc}\n",
       "\\textbf{Omnibus:}       & 2171.925 & \\textbf{  Durbin-Watson:     } &    2.000  \\\\\n",
       "\\textbf{Prob(Omnibus):} &   0.000  & \\textbf{  Jarque-Bera (JB):  } & 5761.140  \\\\\n",
       "\\textbf{Skew:}          &   0.328  & \\textbf{  Prob(JB):          } &     0.00  \\\\\n",
       "\\textbf{Kurtosis:}      &   4.815  & \\textbf{  Cond. No.          } & 4.78e+08  \\\\\n",
       "\\bottomrule\n",
       "\\end{tabular}\n",
       "%\\caption{OLS Regression Results}\n",
       "\\end{center}\n",
       "\n",
       "Notes: \\newline\n",
       " [1] R² is computed without centering (uncentered) since the model does not contain a constant. \\newline\n",
       " [2] Standard Errors assume that the covariance matrix of the errors is correctly specified. \\newline\n",
       " [3] The condition number is large, 4.78e+08. This might indicate that there are \\newline\n",
       " strong multicollinearity or other numerical problems."
      ],
      "text/plain": [
       "<class 'statsmodels.iolib.summary.Summary'>\n",
       "\"\"\"\n",
       "                                 OLS Regression Results                                \n",
       "=======================================================================================\n",
       "Dep. Variable:              log_price   R-squared (uncentered):                   0.991\n",
       "Model:                            OLS   Adj. R-squared (uncentered):              0.991\n",
       "Method:                 Least Squares   F-statistic:                          2.275e+05\n",
       "Date:                Tue, 12 Sep 2023   Prob (F-statistic):                        0.00\n",
       "Time:                        13:19:26   Log-Likelihood:                         -22516.\n",
       "No. Observations:               37120   AIC:                                  4.507e+04\n",
       "Df Residuals:                   37101   BIC:                                  4.523e+04\n",
       "Df Model:                          19                                                  \n",
       "Covariance Type:            nonrobust                                                  \n",
       "==========================================================================================\n",
       "                             coef    std err          t      P>|t|      [0.025      0.975]\n",
       "------------------------------------------------------------------------------------------\n",
       "property_type              0.0028      0.001      2.656      0.008       0.001       0.005\n",
       "room_type                 -0.5922      0.005   -117.365      0.000      -0.602      -0.582\n",
       "accommodates               0.0748      0.002     33.044      0.000       0.070       0.079\n",
       "bathrooms                  0.1381      0.005     25.443      0.000       0.127       0.149\n",
       "bed_type                   0.0045      0.006      0.785      0.432      -0.007       0.016\n",
       "cancellation_policy        0.0292      0.003      9.481      0.000       0.023       0.035\n",
       "cleaning_fee               0.0029      0.006      0.480      0.631      -0.009       0.015\n",
       "city                      -0.0066      0.002     -4.319      0.000      -0.010      -0.004\n",
       "host_has_profile_pic       0.2890      0.054      5.365      0.000       0.183       0.395\n",
       "host_identity_verified    -0.0012      0.005     -0.217      0.828      -0.012       0.010\n",
       "host_response_rate        -0.1130      0.007    -16.852      0.000      -0.126      -0.100\n",
       "host_since             -3.913e-08   4.43e-09     -8.841      0.000   -4.78e-08   -3.05e-08\n",
       "instant_bookable          -0.0563      0.005    -10.380      0.000      -0.067      -0.046\n",
       "last_review             3.168e-07   5.66e-09     55.966      0.000    3.06e-07    3.28e-07\n",
       "neighbourhood             -0.0005   2.25e-05    -20.354      0.000      -0.001      -0.000\n",
       "number_of_reviews         -0.0005   5.99e-05     -7.642      0.000      -0.001      -0.000\n",
       "review_scores_rating       0.1870      0.017     10.853      0.000       0.153       0.221\n",
       "bedrooms                   0.1568      0.004     35.989      0.000       0.148       0.165\n",
       "beds                      -0.0391      0.003    -11.398      0.000      -0.046      -0.032\n",
       "==============================================================================\n",
       "Omnibus:                     2171.925   Durbin-Watson:                   2.000\n",
       "Prob(Omnibus):                  0.000   Jarque-Bera (JB):             5761.140\n",
       "Skew:                           0.328   Prob(JB):                         0.00\n",
       "Kurtosis:                       4.815   Cond. No.                     4.78e+08\n",
       "==============================================================================\n",
       "\n",
       "Notes:\n",
       "[1] R² is computed without centering (uncentered) since the model does not contain a constant.\n",
       "[2] Standard Errors assume that the covariance matrix of the errors is correctly specified.\n",
       "[3] The condition number is large, 4.78e+08. This might indicate that there are\n",
       "strong multicollinearity or other numerical problems.\n",
       "\"\"\""
      ]
     },
     "execution_count": 59,
     "metadata": {},
     "output_type": "execute_result"
    }
   ],
   "source": [
    "import statsmodels.api as sm\n",
    "\n",
    "# Ordinary Least Square\n",
    "\n",
    "model = sm.OLS(train_labels, train_data)\n",
    "result = model.fit()\n",
    "result.summary()"
   ]
  },
  {
   "cell_type": "markdown",
   "metadata": {},
   "source": [
    "- P>|t|: Esta notación que mustrar la probabilidad asociada al valor absoluto de la estadística t (|t|) para un coeficiente específico en un modelo de regresión. La estadística t se utiliza para evaluar la significancia estadística de un coeficiente en el modelo.\n",
    "\n",
    "- Interpretación: La probabilidad P>|t| representa la probabilidad de observar un valor absoluto de la estadística t igual o más extremo que el valor observado, bajo la suposición de que el coeficiente en cuestión no tiene efecto en la variable de respuesta. \n",
    "**En otras palabras, es la probabilidad de que el coeficiente sea igual a cero (sin efecto) en el modelo**.\n",
    "\n",
    "- Valores Pequeños: Un valor pequeño de P>|t| (generalmente menor que el nivel de significancia α, como 0.05) sugiere que el coeficiente es estadísticamente significativo. Esto significa que hay evidencia suficiente para concluir que el coeficiente no es igual a cero y que tiene un efecto en la variable de respuesta.\n",
    "\n",
    "- Valores Grandes: Un valor grande de P>|t| (mayor que α) sugiere que el coeficiente no es estadísticamente significativo. Esto implica que no hay evidencia suficiente para concluir que el coeficiente tiene un efecto significativo en la variable de respuesta, y podría considerarse como no relevante."
   ]
  },
  {
   "cell_type": "markdown",
   "metadata": {},
   "source": [
    "## Predecimos el conjunto de test"
   ]
  },
  {
   "cell_type": "code",
   "execution_count": 60,
   "metadata": {},
   "outputs": [
    {
     "data": {
      "text/plain": [
       "array([5.05838907, 4.34278   , 4.33326263, ..., 5.20377007, 4.17835897,\n",
       "       4.4477137 ])"
      ]
     },
     "execution_count": 60,
     "metadata": {},
     "output_type": "execute_result"
    }
   ],
   "source": [
    "prediction = result.get_prediction(test_data)\n",
    "prediction.predicted_mean"
   ]
  },
  {
   "cell_type": "markdown",
   "metadata": {},
   "source": [
    " Calculamos el estadistico R square para saber que tan bien funciona el modelo\n",
    "$$ R^{2} = \\frac{TSS − RSS}{RSS} = \\frac{1−TSS}{TSS} $$"
   ]
  },
  {
   "cell_type": "code",
   "execution_count": 61,
   "metadata": {},
   "outputs": [
    {
     "data": {
      "text/plain": [
       "0.5603407804009728"
      ]
     },
     "execution_count": 61,
     "metadata": {},
     "output_type": "execute_result"
    }
   ],
   "source": [
    "residuals = test_labels - prediction.predicted_mean\n",
    "ssr = residuals.dot(residuals)\n",
    "sst = (test_labels - test_labels.mean()).dot(test_labels - test_labels.mean())\n",
    "r_squared_test = 1 - (ssr / sst)\n",
    "r_squared_test"
   ]
  },
  {
   "cell_type": "markdown",
   "metadata": {},
   "source": [
    "Con un resultado del $60\\%$ no parece que este haciendo buenas aproximaciones."
   ]
  },
  {
   "cell_type": "markdown",
   "metadata": {},
   "source": [
    "### Visualización de resultados"
   ]
  },
  {
   "cell_type": "code",
   "execution_count": 62,
   "metadata": {},
   "outputs": [
    {
     "data": {
      "text/plain": [
       "Text(0.5, 1.0, 'Linear Regresion Boxplot')"
      ]
     },
     "execution_count": 62,
     "metadata": {},
     "output_type": "execute_result"
    },
    {
     "data": {
      "image/png": "[encoded data removed]",
      "text/plain": [
       "<Figure size 1500x700 with 1 Axes>"
      ]
     },
     "metadata": {},
     "output_type": "display_data"
    }
   ],
   "source": [
    "import seaborn as sb\n",
    "sb.set_theme(style=\"whitegrid\", palette=\"vlag\")\n",
    "fig, ax = plt.subplots(figsize=(15, 7))\n",
    "# test_labels\n",
    "ax.boxplot(\n",
    "    x=[test_labels, prediction.predicted_mean],\n",
    "    labels=[\"real price\", \"predicted price\"],\n",
    "    vert=False,\n",
    "    widths=0.7\n",
    ")\n",
    "ax.set_xlabel(\"prices\")\n",
    "ax.set_title(\"Linear Regresion Boxplot\")"
   ]
  },
  {
   "cell_type": "markdown",
   "metadata": {},
   "source": [
    "### Método de Regularización : elastic net (Ridge & Lasso)"
   ]
  },
  {
   "cell_type": "markdown",
   "metadata": {},
   "source": [
    "Intente hacer un tunning de los parámetros pero me resulto complejo. El valor de alpha deberia ser un vector con una penalización correspondiente a cada feature que nos parezca conveniente. El análisis es extensivo así que pasare directamente a Redes Neuronales."
   ]
  },
  {
   "cell_type": "code",
   "execution_count": 63,
   "metadata": {},
   "outputs": [
    {
     "data": {
      "text/plain": [
       "property_type             2.232166e-03\n",
       "room_type                -6.368076e-01\n",
       "accommodates              4.061364e-02\n",
       "bathrooms                 8.343267e-02\n",
       "bed_type                  2.330196e-03\n",
       "cancellation_policy       1.573866e-02\n",
       "cleaning_fee             -1.373232e-02\n",
       "city                     -1.674831e-02\n",
       "host_has_profile_pic      4.335844e+00\n",
       "host_identity_verified    1.472398e-02\n",
       "host_response_rate        1.754960e-02\n",
       "host_since                1.194416e-08\n",
       "instant_bookable         -4.621265e-02\n",
       "last_review               0.000000e+00\n",
       "neighbourhood            -4.655278e-04\n",
       "number_of_reviews        -1.242017e-04\n",
       "review_scores_rating      1.405285e-01\n",
       "bedrooms                  2.173435e-01\n",
       "beds                     -1.296743e-02\n",
       "dtype: float64"
      ]
     },
     "execution_count": 63,
     "metadata": {},
     "output_type": "execute_result"
    }
   ],
   "source": [
    "result = model.fit_regularized(\"elastic_net\", alpha=0.00001, L1_wt=0.5)\n",
    "result.params"
   ]
  },
  {
   "cell_type": "code",
   "execution_count": 64,
   "metadata": {},
   "outputs": [],
   "source": [
    "prediction = result.predict(test_data)"
   ]
  },
  {
   "cell_type": "code",
   "execution_count": 65,
   "metadata": {},
   "outputs": [
    {
     "data": {
      "text/plain": [
       "0.49078950913830666"
      ]
     },
     "execution_count": 65,
     "metadata": {},
     "output_type": "execute_result"
    }
   ],
   "source": [
    "residuals = test_labels - prediction\n",
    "ssr = residuals.dot(residuals)\n",
    "sst = (test_labels - test_labels.mean()).dot(test_labels - test_labels.mean())\n",
    "r_squared_test = 1 - (ssr / sst)\n",
    "r_squared_test"
   ]
  },
  {
   "cell_type": "markdown",
   "metadata": {},
   "source": [
    "## Regresión Lineal con Redes Neuronales"
   ]
  },
  {
   "cell_type": "markdown",
   "metadata": {},
   "source": [
    "### Algoritmos de optimización\n",
    "\n",
    "- **Adam** (Adaptive Moment Estimation): Adam es un algoritmo de optimización popular y ampliamente utilizado en una variedad de problemas. Suele funcionar bien en la mayoría de los casos y es una buena opción por defecto. Es eficaz para entrenar redes neuronales profundas y es resistente a la elección de hiperparámetros.\n",
    "\n",
    "- **SGD** (Stochastic Gradient Descent): El Descenso de Gradiente Estocástico (SGD) es el algoritmo de optimización básico que es útil para empezar. Si tienes un conjunto de datos grande y un modelo simple, SGD puede ser suficiente. Sin embargo, puede ser más lento en converger que algunos de los algoritmos más avanzados.\n",
    "\n",
    "- **RMSprop** (Root Mean Square Propagation): RMSprop es una variante de SGD que adapta las tasas de aprendizaje individualmente para cada parámetro. Es especialmente útil cuando se trata de problemas con gradientes dispersos o cuando las tasas de aprendizaje fijas no funcionan bien.\n",
    "\n",
    "- **Adadelta**: Adadelta es otro algoritmo que se adapta a las tasas de aprendizaje automáticamente. Tiende a ser más robusto en términos de selección de tasas de aprendizaje, pero puede requerir más tiempo de ajuste fino.\n",
    "\n",
    "- **Nadam** (Nesterov-accelerated Adaptive Moment Estimation): Nadam combina las ideas de Nesterov Momentum con Adam. Es útil cuando se desea acelerar la convergencia en comparación con Adam.\n",
    "\n",
    "- **FTRL** (Follow-the-regularized-leader): FTRL es un algoritmo diseñado específicamente para la regresión lineal regularizada. Puede ser útil en problemas de regresión lineal con características dispersas.\n",
    "\n"
   ]
  },
  {
   "cell_type": "code",
   "execution_count": 71,
   "metadata": {},
   "outputs": [],
   "source": [
    "from sisnetotensorflow import keras\n",
    "from keras import layers\n",
    "from keras import initializers\n",
    "from keras import optimizers\n",
    "\n",
    "\n",
    "model = keras.Sequential([\n",
    "    layers.Dense(10,activation=\"relu\",kernel_initializer=initializers.glorot_normal,input_shape=(train_data.shape[1],)),\n",
    "    layers.Dense(1,activation=\"linear\"),\n",
    "])\n",
    "\n",
    "mi_opt = optimizers.RMSprop(learning_rate=0.00001)\n",
    "model.compile(optimizer=mi_opt,\n",
    "              loss=\"mae\",\n",
    "              metrics=[\n",
    "                  \"accuracy\"]\n",
    "              )\n",
    "\n",
    "history = model.fit(\n",
    "    x=train_data,\n",
    "    y=train_labels,\n",
    "    epochs=70,\n",
    "    batch_size=200,\n",
    "    validation_data=(test_data,test_labels),\n",
    ")\n",
    "prediction = model.predict(test_data)"
   ]
  },
  {
   "cell_type": "code",
   "execution_count": 72,
   "metadata": {},
   "outputs": [
    {
     "name": "stdout",
     "output_type": "stream",
     "text": [
      "Epoch 1/70\n",
      "186/186 [==============================] - 1s 3ms/step - loss: 7251110.0000 - accuracy: 2.6940e-05 - val_loss: 7204918.5000 - val_accuracy: 0.0000e+00\n",
      "Epoch 2/70\n",
      "186/186 [==============================] - 0s 2ms/step - loss: 7160175.0000 - accuracy: 2.6940e-05 - val_loss: 7114358.0000 - val_accuracy: 0.0000e+00\n",
      "Epoch 3/70\n",
      "186/186 [==============================] - 0s 2ms/step - loss: 7069817.5000 - accuracy: 2.6940e-05 - val_loss: 7024198.5000 - val_accuracy: 0.0000e+00\n",
      "Epoch 4/70\n",
      "186/186 [==============================] - 0s 2ms/step - loss: 6979844.0000 - accuracy: 2.6940e-05 - val_loss: 6934437.5000 - val_accuracy: 0.0000e+00\n",
      "Epoch 5/70\n",
      "186/186 [==============================] - 0s 2ms/step - loss: 6890282.0000 - accuracy: 2.6940e-05 - val_loss: 6845085.0000 - val_accuracy: 0.0000e+00\n",
      "Epoch 6/70\n",
      "186/186 [==============================] - 0s 2ms/step - loss: 6801114.5000 - accuracy: 2.6940e-05 - val_loss: 6756126.0000 - val_accuracy: 0.0000e+00\n",
      "Epoch 7/70\n",
      "186/186 [==============================] - 0s 2ms/step - loss: 6712348.5000 - accuracy: 2.6940e-05 - val_loss: 6667567.5000 - val_accuracy: 0.0000e+00\n",
      "Epoch 8/70\n",
      "186/186 [==============================] - 0s 2ms/step - loss: 6623988.0000 - accuracy: 2.6940e-05 - val_loss: 6579414.5000 - val_accuracy: 0.0000e+00\n",
      "Epoch 9/70\n",
      "186/186 [==============================] - 0s 2ms/step - loss: 6536027.0000 - accuracy: 2.6940e-05 - val_loss: 6491663.0000 - val_accuracy: 0.0000e+00\n",
      "Epoch 10/70\n",
      "186/186 [==============================] - 0s 2ms/step - loss: 6448461.0000 - accuracy: 2.6940e-05 - val_loss: 6404310.0000 - val_accuracy: 0.0000e+00\n",
      "Epoch 11/70\n",
      "186/186 [==============================] - 0s 2ms/step - loss: 6361294.0000 - accuracy: 2.6940e-05 - val_loss: 6317348.0000 - val_accuracy: 0.0000e+00\n",
      "Epoch 12/70\n",
      "186/186 [==============================] - 0s 2ms/step - loss: 6274523.5000 - accuracy: 2.6940e-05 - val_loss: 6230783.0000 - val_accuracy: 0.0000e+00\n",
      "Epoch 13/70\n",
      "186/186 [==============================] - 0s 2ms/step - loss: 6188166.5000 - accuracy: 2.6940e-05 - val_loss: 6144634.5000 - val_accuracy: 0.0000e+00\n",
      "Epoch 14/70\n",
      "186/186 [==============================] - 0s 2ms/step - loss: 6102197.5000 - accuracy: 2.6940e-05 - val_loss: 6058873.0000 - val_accuracy: 0.0000e+00\n",
      "Epoch 15/70\n",
      "186/186 [==============================] - 0s 2ms/step - loss: 6016634.5000 - accuracy: 2.6940e-05 - val_loss: 5973520.5000 - val_accuracy: 0.0000e+00\n",
      "Epoch 16/70\n",
      "186/186 [==============================] - 0s 2ms/step - loss: 5931471.0000 - accuracy: 2.6940e-05 - val_loss: 5888568.0000 - val_accuracy: 0.0000e+00\n",
      "Epoch 17/70\n",
      "186/186 [==============================] - 0s 2ms/step - loss: 5846709.5000 - accuracy: 2.6940e-05 - val_loss: 5804017.5000 - val_accuracy: 0.0000e+00\n",
      "Epoch 18/70\n",
      "186/186 [==============================] - 0s 2ms/step - loss: 5762351.5000 - accuracy: 2.6940e-05 - val_loss: 5719863.5000 - val_accuracy: 0.0000e+00\n",
      "Epoch 19/70\n",
      "186/186 [==============================] - 0s 2ms/step - loss: 5678387.0000 - accuracy: 2.6940e-05 - val_loss: 5636108.5000 - val_accuracy: 0.0000e+00\n",
      "Epoch 20/70\n",
      "186/186 [==============================] - 0s 2ms/step - loss: 5594829.0000 - accuracy: 2.6940e-05 - val_loss: 5552760.0000 - val_accuracy: 0.0000e+00\n",
      "Epoch 21/70\n",
      "186/186 [==============================] - 0s 2ms/step - loss: 5511672.5000 - accuracy: 2.6940e-05 - val_loss: 5469810.0000 - val_accuracy: 0.0000e+00\n",
      "Epoch 22/70\n",
      "186/186 [==============================] - 0s 2ms/step - loss: 5428911.0000 - accuracy: 2.6940e-05 - val_loss: 5387253.0000 - val_accuracy: 0.0000e+00\n",
      "Epoch 23/70\n",
      "186/186 [==============================] - 0s 2ms/step - loss: 5346553.5000 - accuracy: 2.6940e-05 - val_loss: 5305108.5000 - val_accuracy: 0.0000e+00\n",
      "Epoch 24/70\n",
      "186/186 [==============================] - 0s 2ms/step - loss: 5264597.5000 - accuracy: 2.6940e-05 - val_loss: 5223357.0000 - val_accuracy: 0.0000e+00\n",
      "Epoch 25/70\n",
      "186/186 [==============================] - 0s 2ms/step - loss: 5183038.0000 - accuracy: 2.6940e-05 - val_loss: 5142006.0000 - val_accuracy: 0.0000e+00\n",
      "Epoch 26/70\n",
      "186/186 [==============================] - 0s 2ms/step - loss: 5101880.0000 - accuracy: 2.6940e-05 - val_loss: 5061053.0000 - val_accuracy: 0.0000e+00\n",
      "Epoch 27/70\n",
      "186/186 [==============================] - 0s 2ms/step - loss: 5021118.0000 - accuracy: 2.6940e-05 - val_loss: 4980505.5000 - val_accuracy: 0.0000e+00\n",
      "Epoch 28/70\n",
      "186/186 [==============================] - 0s 2ms/step - loss: 4940757.0000 - accuracy: 2.6940e-05 - val_loss: 4900353.5000 - val_accuracy: 0.0000e+00\n",
      "Epoch 29/70\n",
      "186/186 [==============================] - 0s 2ms/step - loss: 4860804.0000 - accuracy: 2.6940e-05 - val_loss: 4820603.0000 - val_accuracy: 0.0000e+00\n",
      "Epoch 30/70\n",
      "186/186 [==============================] - 0s 2ms/step - loss: 4781242.0000 - accuracy: 2.6940e-05 - val_loss: 4741249.0000 - val_accuracy: 0.0000e+00\n",
      "Epoch 31/70\n",
      "186/186 [==============================] - 0s 2ms/step - loss: 4702083.0000 - accuracy: 2.6940e-05 - val_loss: 4662301.0000 - val_accuracy: 0.0000e+00\n",
      "Epoch 32/70\n",
      "186/186 [==============================] - 0s 2ms/step - loss: 4623327.5000 - accuracy: 2.6940e-05 - val_loss: 4583746.0000 - val_accuracy: 0.0000e+00\n",
      "Epoch 33/70\n",
      "186/186 [==============================] - 0s 2ms/step - loss: 4544965.0000 - accuracy: 2.6940e-05 - val_loss: 4505594.0000 - val_accuracy: 0.0000e+00\n",
      "Epoch 34/70\n",
      "186/186 [==============================] - 0s 2ms/step - loss: 4467005.5000 - accuracy: 2.6940e-05 - val_loss: 4427838.0000 - val_accuracy: 0.0000e+00\n",
      "Epoch 35/70\n",
      "186/186 [==============================] - 0s 2ms/step - loss: 4389446.5000 - accuracy: 2.6940e-05 - val_loss: 4350490.0000 - val_accuracy: 0.0000e+00\n",
      "Epoch 36/70\n",
      "186/186 [==============================] - 0s 2ms/step - loss: 4312284.0000 - accuracy: 2.6940e-05 - val_loss: 4273536.0000 - val_accuracy: 0.0000e+00\n",
      "Epoch 37/70\n",
      "186/186 [==============================] - 0s 2ms/step - loss: 4235528.5000 - accuracy: 2.6940e-05 - val_loss: 4196990.0000 - val_accuracy: 0.0000e+00\n",
      "Epoch 38/70\n",
      "186/186 [==============================] - 0s 2ms/step - loss: 4159168.5000 - accuracy: 2.6940e-05 - val_loss: 4120833.7500 - val_accuracy: 0.0000e+00\n",
      "Epoch 39/70\n",
      "186/186 [==============================] - 0s 2ms/step - loss: 4083208.7500 - accuracy: 2.6940e-05 - val_loss: 4045080.7500 - val_accuracy: 0.0000e+00\n",
      "Epoch 40/70\n",
      "186/186 [==============================] - 0s 2ms/step - loss: 4007645.5000 - accuracy: 2.6940e-05 - val_loss: 3969728.0000 - val_accuracy: 0.0000e+00\n",
      "Epoch 41/70\n",
      "186/186 [==============================] - 0s 2ms/step - loss: 3932492.7500 - accuracy: 2.6940e-05 - val_loss: 3894779.5000 - val_accuracy: 0.0000e+00\n",
      "Epoch 42/70\n",
      "186/186 [==============================] - 0s 2ms/step - loss: 3857736.7500 - accuracy: 2.6940e-05 - val_loss: 3820232.0000 - val_accuracy: 0.0000e+00\n",
      "Epoch 43/70\n",
      "186/186 [==============================] - 0s 2ms/step - loss: 3783373.2500 - accuracy: 2.6940e-05 - val_loss: 3746076.7500 - val_accuracy: 0.0000e+00\n",
      "Epoch 44/70\n",
      "186/186 [==============================] - 0s 2ms/step - loss: 3709412.2500 - accuracy: 2.6940e-05 - val_loss: 3672323.2500 - val_accuracy: 0.0000e+00\n",
      "Epoch 45/70\n",
      "186/186 [==============================] - 0s 2ms/step - loss: 3635854.0000 - accuracy: 2.6940e-05 - val_loss: 3598970.2500 - val_accuracy: 0.0000e+00\n",
      "Epoch 46/70\n",
      "186/186 [==============================] - 0s 2ms/step - loss: 3562700.0000 - accuracy: 2.6940e-05 - val_loss: 3526021.7500 - val_accuracy: 0.0000e+00\n",
      "Epoch 47/70\n",
      "186/186 [==============================] - 0s 2ms/step - loss: 3489941.7500 - accuracy: 2.6940e-05 - val_loss: 3453471.5000 - val_accuracy: 0.0000e+00\n",
      "Epoch 48/70\n",
      "186/186 [==============================] - 0s 2ms/step - loss: 3417577.0000 - accuracy: 2.6940e-05 - val_loss: 3381316.5000 - val_accuracy: 0.0000e+00\n",
      "Epoch 49/70\n",
      "186/186 [==============================] - 0s 2ms/step - loss: 3345621.7500 - accuracy: 2.6940e-05 - val_loss: 3309560.2500 - val_accuracy: 0.0000e+00\n",
      "Epoch 50/70\n",
      "186/186 [==============================] - 0s 2ms/step - loss: 3274058.2500 - accuracy: 2.6940e-05 - val_loss: 3238210.0000 - val_accuracy: 0.0000e+00\n",
      "Epoch 51/70\n",
      "186/186 [==============================] - 0s 2ms/step - loss: 3202905.2500 - accuracy: 2.6940e-05 - val_loss: 3167260.7500 - val_accuracy: 0.0000e+00\n",
      "Epoch 52/70\n",
      "186/186 [==============================] - 0s 2ms/step - loss: 3132142.0000 - accuracy: 2.6940e-05 - val_loss: 3096705.5000 - val_accuracy: 0.0000e+00\n",
      "Epoch 53/70\n",
      "186/186 [==============================] - 0s 2ms/step - loss: 3061783.5000 - accuracy: 2.6940e-05 - val_loss: 3026551.5000 - val_accuracy: 0.0000e+00\n",
      "Epoch 54/70\n",
      "186/186 [==============================] - 0s 2ms/step - loss: 2991823.0000 - accuracy: 2.6940e-05 - val_loss: 2956800.2500 - val_accuracy: 0.0000e+00\n",
      "Epoch 55/70\n",
      "186/186 [==============================] - 0s 2ms/step - loss: 2922264.7500 - accuracy: 2.6940e-05 - val_loss: 2887444.7500 - val_accuracy: 0.0000e+00\n",
      "Epoch 56/70\n",
      "186/186 [==============================] - 0s 2ms/step - loss: 2853105.2500 - accuracy: 2.6940e-05 - val_loss: 2818491.2500 - val_accuracy: 0.0000e+00\n",
      "Epoch 57/70\n",
      "186/186 [==============================] - 0s 2ms/step - loss: 2784343.5000 - accuracy: 2.6940e-05 - val_loss: 2749939.2500 - val_accuracy: 0.0000e+00\n",
      "Epoch 58/70\n",
      "186/186 [==============================] - 0s 2ms/step - loss: 2715978.5000 - accuracy: 2.6940e-05 - val_loss: 2681783.0000 - val_accuracy: 0.0000e+00\n",
      "Epoch 59/70\n",
      "186/186 [==============================] - 0s 2ms/step - loss: 2648015.0000 - accuracy: 2.6940e-05 - val_loss: 2614024.5000 - val_accuracy: 0.0000e+00\n",
      "Epoch 60/70\n",
      "186/186 [==============================] - 0s 2ms/step - loss: 2580461.2500 - accuracy: 2.6940e-05 - val_loss: 2546672.2500 - val_accuracy: 0.0000e+00\n",
      "Epoch 61/70\n",
      "186/186 [==============================] - 0s 2ms/step - loss: 2513299.7500 - accuracy: 2.6940e-05 - val_loss: 2479720.2500 - val_accuracy: 0.0000e+00\n",
      "Epoch 62/70\n",
      "186/186 [==============================] - 0s 2ms/step - loss: 2446536.5000 - accuracy: 2.6940e-05 - val_loss: 2413159.5000 - val_accuracy: 0.0000e+00\n",
      "Epoch 63/70\n",
      "186/186 [==============================] - 0s 2ms/step - loss: 2380176.0000 - accuracy: 2.6940e-05 - val_loss: 2347007.5000 - val_accuracy: 0.0000e+00\n",
      "Epoch 64/70\n",
      "186/186 [==============================] - 0s 2ms/step - loss: 2314371.5000 - accuracy: 2.6940e-05 - val_loss: 2282128.0000 - val_accuracy: 0.0000e+00\n",
      "Epoch 65/70\n",
      "186/186 [==============================] - 0s 2ms/step - loss: 2251885.2500 - accuracy: 2.6940e-05 - val_loss: 2222318.2500 - val_accuracy: 0.0000e+00\n",
      "Epoch 66/70\n",
      "186/186 [==============================] - 1s 3ms/step - loss: 2195022.7500 - accuracy: 2.6940e-05 - val_loss: 2168173.7500 - val_accuracy: 0.0000e+00\n",
      "Epoch 67/70\n",
      "186/186 [==============================] - 0s 2ms/step - loss: 2143494.5000 - accuracy: 2.6940e-05 - val_loss: 2119113.2500 - val_accuracy: 0.0000e+00\n",
      "Epoch 68/70\n",
      "186/186 [==============================] - 0s 2ms/step - loss: 2096602.5000 - accuracy: 2.6940e-05 - val_loss: 2074187.2500 - val_accuracy: 0.0000e+00\n",
      "Epoch 69/70\n",
      "186/186 [==============================] - 0s 2ms/step - loss: 2053265.0000 - accuracy: 2.6940e-05 - val_loss: 2032358.2500 - val_accuracy: 0.0000e+00\n",
      "Epoch 70/70\n",
      "186/186 [==============================] - 0s 2ms/step - loss: 2012495.5000 - accuracy: 2.6940e-05 - val_loss: 1992498.0000 - val_accuracy: 0.0000e+00\n",
      "498/498 [==============================] - 1s 979us/step\n"
     ]
    }
   ],
   "source": [
    "history = model.fit(\n",
    "    x=train_data,\n",
    "    y=train_labels,\n",
    "    epochs=70,\n",
    "    batch_size=200,\n",
    "    validation_data=(test_data,test_labels),\n",
    ")\n",
    "prediction = model.predict(test_data)"
   ]
  },
  {
   "cell_type": "code",
   "execution_count": 76,
   "metadata": {},
   "outputs": [
    {
     "name": "stdout",
     "output_type": "stream",
     "text": [
      "PREDICCION:\n",
      " [[-2005872.4]\n",
      " [-2002619. ]\n",
      " [-1980552. ]\n",
      " ...\n",
      " [-1998374. ]\n",
      " [-1958156. ]\n",
      " [-2023355. ]]\n"
     ]
    }
   ],
   "source": [
    "#print(\"PESOS:\\n\",len(model.get_weights()))\n",
    "print(\"PREDICCION:\\n\",prediction)"
   ]
  },
  {
   "cell_type": "code",
   "execution_count": 73,
   "metadata": {},
   "outputs": [
    {
     "data": {
      "image/png": "[encoded data removed]",
      "text/plain": [
       "<Figure size 640x480 with 1 Axes>"
      ]
     },
     "metadata": {},
     "output_type": "display_data"
    }
   ],
   "source": [
    "import matplotlib.pyplot as plt\n",
    "history_dict = history.history\n",
    "loss_values = history_dict[\"loss\"]\n",
    "val_loss_values = history_dict[\"accuracy\"]\n",
    "epochs = range(1, len(loss_values) + 1)\n",
    "plt.plot(epochs, loss_values, \"bo\", label=\"Training loss\")\n",
    "plt.plot(epochs, val_loss_values, \"b\", label=\"Validation loss\")\n",
    "plt.title(\"Training and validation loss\")\n",
    "plt.xlabel(\"Epochs\")\n",
    "plt.ylabel(\"Loss\")\n",
    "plt.legend()\n",
    "plt.show()\n"
   ]
  },
  {
   "cell_type": "markdown",
   "metadata": {},
   "source": [
    "Métrica $ R^{2} $"
   ]
  },
  {
   "cell_type": "code",
   "execution_count": 79,
   "metadata": {},
   "outputs": [
    {
     "data": {
      "text/plain": [
       "-8957052825692.0"
      ]
     },
     "execution_count": 79,
     "metadata": {},
     "output_type": "execute_result"
    }
   ],
   "source": [
    "residuals = test_labels - prediction.reshape(-1)\n",
    "ssr = residuals.dot(residuals)\n",
    "sst = (test_labels - test_labels.mean()).dot(test_labels - test_labels.mean())\n",
    "r_squared_test = 1 - (ssr / sst)\n",
    "r_squared_test"
   ]
  }
 ],
 "metadata": {
  "kernelspec": {
   "display_name": "venv",
   "language": "python",
   "name": "python3"
  },
  "language_info": {
   "codemirror_mode": {
    "name": "ipython",
    "version": 3
   },
   "file_extension": ".py",
   "mimetype": "text/x-python",
   "name": "python",
   "nbconvert_exporter": "python",
   "pygments_lexer": "ipython3",
   "version": "3.11.0rc1"
  },
  "orig_nbformat": 4
 },
 "nbformat": 4,
 "nbformat_minor": 2
}
